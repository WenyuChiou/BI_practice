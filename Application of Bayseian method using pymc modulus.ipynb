{
 "cells": [
  {
   "cell_type": "code",
   "execution_count": null,
   "metadata": {},
   "outputs": [],
   "source": [
    "# Application of Bayseian method using pymc modulus\n",
    "\"\"\"\n",
    "This file tried to reproduce the process of Bayesian Analysis using MCMC.\n",
    "\n",
    "\"\"\"\n",
    "\n",
    "import arviz as az\n",
    "import pandas as pd\n",
    "import matplotlib.pyplot as plt\n",
    "import numpy as np\n",
    "import os\n",
    "\n",
    "# Set the style of the figure background\n",
    "az.style.use(\"arviz-darkgrid\")\n",
    "\n",
    "# Loading dataset using pandas\n",
    "dir = r'C:\\Users\\user\\Desktop\\Lehigh\\pre-phd\\BayesianStatistics_HawjengChiou\\Ch01'\n",
    "obs_data = pd.read_csv(os.path.join(dir,'data1.csv'),header=None)"
   ]
  }
 ],
 "metadata": {
  "language_info": {
   "name": "python"
  }
 },
 "nbformat": 4,
 "nbformat_minor": 2
}
